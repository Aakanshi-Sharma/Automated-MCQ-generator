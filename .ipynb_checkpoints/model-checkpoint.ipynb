{
 "cells": [
  {
   "cell_type": "markdown",
   "id": "14d5b5a1",
   "metadata": {},
   "source": [
    "### IMPORT"
   ]
  },
  {
   "cell_type": "code",
   "execution_count": 1,
   "id": "16b3c8f9",
   "metadata": {},
   "outputs": [],
   "source": [
    "import numpy as np\n",
    "import pandas as pd\n",
    "import matplotlib.pyplot as plt\n",
    "import pickle\n",
    "from heapq import nlargest\n",
    "import string"
   ]
  },
  {
   "cell_type": "code",
   "execution_count": 2,
   "id": "72601789",
   "metadata": {},
   "outputs": [],
   "source": [
    "punctuations=string.punctuation"
   ]
  },
  {
   "cell_type": "markdown",
   "id": "1e3f2180",
   "metadata": {},
   "source": [
    "### SUMMARIZATION"
   ]
  },
  {
   "cell_type": "code",
   "execution_count": 3,
   "id": "4377ce5d",
   "metadata": {},
   "outputs": [],
   "source": [
    "stopwords=pickle.load(open(\"stopwords.pkl\", \"rb\"))\n",
    "normalized_frequencies=pickle.load(open(\"normalized_frequencies.pkl\", \"rb\"))"
   ]
  },
  {
   "cell_type": "code",
   "execution_count": 12,
   "id": "b95dd326",
   "metadata": {},
   "outputs": [],
   "source": [
    "def get_summaries(text):\n",
    "    sentences=text.strip().split(\".\")\n",
    "    normalized_dict={}\n",
    "    for sentence in sentences:\n",
    "        if len(sentence)>0:\n",
    "            temp_words_list=[]\n",
    "            words=sentence.strip().split(\" \")\n",
    "            for word in words:\n",
    "                if word not in stopwords and word not in punctuations:\n",
    "                    b=\"\".join([i for i in word if i not in punctuations])\n",
    "                    if len(b)>0:\n",
    "                        temp_words_list.append(b)\n",
    "            if len(temp_words_list) >0:\n",
    "                normalized_length=0\n",
    "                for i in temp_words_list:\n",
    "                    if i in normalized_frequencies:\n",
    "                        normalized_length+=normalized_frequencies[i]\n",
    "                    else:\n",
    "                        normalized_length+=0\n",
    "            normalized_dict[sentence]=normalized_length\n",
    "    dict_length = int(len(normalized_dict) * 0.3)\n",
    "    res=nlargest(dict_length, normalized_dict, key=normalized_dict.get)\n",
    "    \n",
    "    return \". \".join(res)"
   ]
  },
  {
   "cell_type": "code",
   "execution_count": 13,
   "id": "4c056fb8",
   "metadata": {},
   "outputs": [
    {
     "data": {
      "text/plain": [
       "' It is commonly kept as a house pet and farm cat, but also ranges freely as a feral cat avoiding human contact.  It also secretes and perceives pheromones.  Cat communication includes vocalizations like meowing, purring, trilling, hissing, growling, and grunting as well as cat body language'"
      ]
     },
     "execution_count": 13,
     "metadata": {},
     "output_type": "execute_result"
    }
   ],
   "source": [
    "text=get_summaries(\"The cat (Felis catus), commonly referred to as the domestic cat or house cat, is the only domesticated species in the family Felidae. Recent advances in archaeology and genetics have shown that the domestication of the cat occurred in the Near East around 7500 BC. It is commonly kept as a house pet and farm cat, but also ranges freely as a feral cat avoiding human contact. It is valued by humans for companionship and its ability to kill vermin. Because of its retractable claws it is adapted to killing small prey like mice and rats. It has a strong flexible body, quick reflexes, sharp teeth, and its night vision and sense of smell are well developed. It is a social species, but a solitary hunter and a crepuscular predator. Cat communication includes vocalizations like meowing, purring, trilling, hissing, growling, and grunting as well as cat body language. It can hear sounds too faint or too high in frequency for human ears, such as those made by small mammals. It also secretes and perceives pheromones.\")"
   ]
  },
  {
   "cell_type": "markdown",
   "id": "e5ea13f6",
   "metadata": {},
   "source": [
    "### EXTRACTION"
   ]
  },
  {
   "cell_type": "code",
   "execution_count": 36,
   "id": "192701fa",
   "metadata": {},
   "outputs": [],
   "source": [
    "from sklearn.feature_extraction.text import TfidfVectorizer\n",
    "corpus=[text]\n",
    "vectorizer=TfidfVectorizer(stop_words='english')\n",
    "tfidf_matrix=vectorizer.fit_transform(corpus)\n",
    "features_names=vectorizer.get_feature_names_out()\n",
    "if(len(features_names)> 20):\n",
    "    n=int(len(features_names)*0.6)\n",
    "    top_keywords= [features_names[i] for i in tfidf_matrix.sum(axis=0).argsort()[0, ::-1][:n]]\n",
    "else:\n",
    "    top_keywords=[features_names[i] for i in tfidf_matrix.sum(axis=0).argsort()[0, ::-1][:len(features_names)]]"
   ]
  },
  {
   "cell_type": "code",
   "execution_count": 39,
   "id": "f924de93",
   "metadata": {},
   "outputs": [
    {
     "data": {
      "text/plain": [
       "[array([['cat', 'vocalizations', 'house', 'body', 'commonly',\n",
       "         'communication', 'contact', 'farm', 'feral', 'freely',\n",
       "         'growling', 'grunting', 'hissing', 'human', 'trilling',\n",
       "         'includes', 'kept', 'language', 'like', 'meowing', 'perceives',\n",
       "         'pet', 'pheromones', 'purring', 'ranges', 'secretes', 'avoiding']],\n",
       "       dtype=object)]"
      ]
     },
     "execution_count": 39,
     "metadata": {},
     "output_type": "execute_result"
    }
   ],
   "source": [
    "top_keywords"
   ]
  },
  {
   "cell_type": "code",
   "execution_count": null,
   "id": "705ae77a",
   "metadata": {},
   "outputs": [],
   "source": []
  }
 ],
 "metadata": {
  "kernelspec": {
   "display_name": "Python 3 (ipykernel)",
   "language": "python",
   "name": "python3"
  },
  "language_info": {
   "codemirror_mode": {
    "name": "ipython",
    "version": 3
   },
   "file_extension": ".py",
   "mimetype": "text/x-python",
   "name": "python",
   "nbconvert_exporter": "python",
   "pygments_lexer": "ipython3",
   "version": "3.10.5"
  }
 },
 "nbformat": 4,
 "nbformat_minor": 5
}
