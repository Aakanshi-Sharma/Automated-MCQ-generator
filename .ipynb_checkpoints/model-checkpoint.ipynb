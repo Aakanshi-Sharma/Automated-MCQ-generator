{
 "cells": [
  {
   "cell_type": "markdown",
   "id": "14d5b5a1",
   "metadata": {},
   "source": [
    "### IMPORT"
   ]
  },
  {
   "cell_type": "code",
   "execution_count": 1,
   "id": "16b3c8f9",
   "metadata": {},
   "outputs": [],
   "source": [
    "import numpy as np\n",
    "import pandas as pd\n",
    "import matplotlib.pyplot as plt\n",
    "import pickle\n",
    "from heapq import nlargest\n",
    "import string\n",
    "import nltk\n",
    "from sense2vec import Sense2Vec\n",
    "from collections import OrderedDict\n",
    "from sklearn.feature_extraction.text import TfidfVectorizer\n",
    "from nltk.tokenize import sent_tokenize\n",
    "from flashtext import KeywordProcessor\n",
    "import random\n",
    "import re\n",
    "import pickle"
   ]
  },
  {
   "cell_type": "code",
   "execution_count": 2,
   "id": "6163fe7f",
   "metadata": {},
   "outputs": [
    {
     "name": "stderr",
     "output_type": "stream",
     "text": [
      "[nltk_data] Downloading package punkt to\n",
      "[nltk_data]     C:\\Users\\DELL\\AppData\\Roaming\\nltk_data...\n",
      "[nltk_data]   Package punkt is already up-to-date!\n"
     ]
    },
    {
     "data": {
      "text/plain": [
       "True"
      ]
     },
     "execution_count": 2,
     "metadata": {},
     "output_type": "execute_result"
    }
   ],
   "source": [
    "nltk.download('punkt')"
   ]
  },
  {
   "cell_type": "code",
   "execution_count": 3,
   "id": "72601789",
   "metadata": {},
   "outputs": [],
   "source": [
    "punctuations=string.punctuation"
   ]
  },
  {
   "cell_type": "code",
   "execution_count": 4,
   "id": "1fa00697",
   "metadata": {},
   "outputs": [],
   "source": [
    " # Loading pretrained model\n",
    "s2v = Sense2Vec().from_disk(\"../../installed_packages/s2v_old\")"
   ]
  },
  {
   "cell_type": "markdown",
   "id": "1e3f2180",
   "metadata": {},
   "source": [
    "### SUMMARIZATION"
   ]
  },
  {
   "cell_type": "code",
   "execution_count": 5,
   "id": "4377ce5d",
   "metadata": {},
   "outputs": [],
   "source": [
    "stopwords=pickle.load(open(\"stopwords.pkl\", \"rb\"))\n",
    "normalized_frequencies=pickle.load(open(\"normalized_frequencies.pkl\", \"rb\"))"
   ]
  },
  {
   "cell_type": "code",
   "execution_count": 6,
   "id": "b95dd326",
   "metadata": {},
   "outputs": [],
   "source": [
    "def get_summaries(text):\n",
    "    sentences=text.strip().split(\".\")\n",
    "    normalized_dict={}\n",
    "    for sentence in sentences:\n",
    "        if len(sentence)>0:\n",
    "            temp_words_list=[]\n",
    "            words=sentence.strip().split(\" \")\n",
    "            for word in words:\n",
    "                if word not in stopwords and word not in punctuations:\n",
    "                    b=\"\".join([i for i in word if i not in punctuations])\n",
    "                    if len(b)>0:\n",
    "                        temp_words_list.append(b)\n",
    "            if len(temp_words_list) >0:\n",
    "                normalized_length=0\n",
    "                for i in temp_words_list:\n",
    "                    if i in normalized_frequencies:\n",
    "                        normalized_length+=normalized_frequencies[i]\n",
    "                    else:\n",
    "                        normalized_length+=0\n",
    "            normalized_dict[sentence]=normalized_length\n",
    "    dict_length = int(len(normalized_dict) * 0.3)\n",
    "    res=nlargest(dict_length, normalized_dict, key=normalized_dict.get)\n",
    "    \n",
    "    return \". \".join(res)"
   ]
  },
  {
   "cell_type": "code",
   "execution_count": 7,
   "id": "4c056fb8",
   "metadata": {},
   "outputs": [],
   "source": [
    "text=get_summaries(\"The cat (Felis catus), commonly referred to as the domestic cat or house cat, is the only domesticated species in the family Felidae. Recent advances in archaeology and genetics have shown that the domestication of the cat occurred in the Near East around 7500 BC. It is commonly kept as a house pet and farm cat, but also ranges freely as a feral cat avoiding human contact. It is valued by humans for companionship and its ability to kill vermin. Because of its retractable claws it is adapted to killing small prey like mice and rats. It has a strong flexible body, quick reflexes, sharp teeth, and its night vision and sense of smell are well developed. It is a social species, but a solitary hunter and a crepuscular predator. Cat communication includes vocalizations like meowing, purring, trilling, hissing, growling, and grunting as well as cat body language. It can hear sounds too faint or too high in frequency for human ears, such as those made by small mammals. It also secretes and perceives pheromones.\")"
   ]
  },
  {
   "cell_type": "markdown",
   "id": "e5ea13f6",
   "metadata": {},
   "source": [
    "### EXTRACTION"
   ]
  },
  {
   "cell_type": "code",
   "execution_count": 8,
   "id": "192701fa",
   "metadata": {},
   "outputs": [],
   "source": [
    "vectorizer=TfidfVectorizer(stop_words='english')\n",
    "def extraction(text,vectorizer ):\n",
    "    corpus=[text]\n",
    "    tfidf_matrix=vectorizer.fit_transform(corpus)\n",
    "    features_names=vectorizer.get_feature_names_out()\n",
    "    if(len(features_names)> 20):\n",
    "        n=int(len(features_names)*0.4)\n",
    "        top_keywords= [features_names[i] for i in tfidf_matrix.sum(axis=0).argsort()[0, ::-1][:n]]\n",
    "    else:\n",
    "        top_keywords=[features_names[i] for i in tfidf_matrix.sum(axis=0).argsort()[0, ::-1][:len(features_names)]]\n",
    "    return top_keywords"
   ]
  },
  {
   "cell_type": "code",
   "execution_count": 9,
   "id": "4a52167d",
   "metadata": {},
   "outputs": [],
   "source": [
    "top_keywords=extraction(text)"
   ]
  },
  {
   "cell_type": "code",
   "execution_count": 10,
   "id": "584850b4",
   "metadata": {},
   "outputs": [
    {
     "data": {
      "text/plain": [
       "[array([['cat', 'vocalizations', 'house', 'body', 'commonly',\n",
       "         'communication', 'contact', 'farm', 'feral', 'freely',\n",
       "         'growling', 'grunting', 'hissing', 'human', 'trilling',\n",
       "         'includes', 'kept', 'language', 'like', 'meowing', 'perceives',\n",
       "         'pet', 'pheromones', 'purring', 'ranges', 'secretes', 'avoiding']],\n",
       "       dtype=object)]"
      ]
     },
     "execution_count": 10,
     "metadata": {},
     "output_type": "execute_result"
    }
   ],
   "source": [
    "top_keywords"
   ]
  },
  {
   "cell_type": "markdown",
   "id": "d0a01045",
   "metadata": {},
   "source": [
    "### DISTRACTOR GENERATION"
   ]
  },
  {
   "cell_type": "code",
   "execution_count": 11,
   "id": "2c7df01d",
   "metadata": {},
   "outputs": [],
   "source": [
    "def sense2vec_get_words(word, s2v):\n",
    "    output=[]\n",
    "    word=word.lower()\n",
    "    word=word.replace(\" \", \"_\")\n",
    "    sense=s2v.get_best_sense(word)\n",
    "    most_similar=s2v.most_similar(sense, n=20)\n",
    "    for each_word in most_similar:\n",
    "        append_word=each_word[0].split(\"|\")[0].replace(\"_\",\" \").lower()\n",
    "        if(append_word.lower()!=word):\n",
    "            output.append(append_word.title())\n",
    "    out2=[]\n",
    "    for i in output:\n",
    "        if i not in out2:\n",
    "            out2.append(i)\n",
    "    return out2"
   ]
  },
  {
   "cell_type": "code",
   "execution_count": 12,
   "id": "51e4d40d",
   "metadata": {},
   "outputs": [
    {
     "data": {
      "text/plain": [
       "['Icecream',\n",
       " 'Ice-Cream',\n",
       " 'Frozen Yogurt',\n",
       " 'Milkshakes',\n",
       " 'Cookie Dough',\n",
       " 'Cereal',\n",
       " 'Chocolate Cake',\n",
       " 'Pop Tarts',\n",
       " 'Oreos',\n",
       " 'Chocolate Chip Cookies',\n",
       " 'Potato Chips',\n",
       " 'Dessert',\n",
       " 'Cinnamon Rolls',\n",
       " 'Chocolate Ice Cream',\n",
       " 'Cheesecake',\n",
       " 'Popsicles',\n",
       " 'Chocolate Milk',\n",
       " 'Chocolate',\n",
       " 'Pancakes']"
      ]
     },
     "execution_count": 12,
     "metadata": {},
     "output_type": "execute_result"
    }
   ],
   "source": [
    "sense2vec_get_words(\"ice cream\", s2v)"
   ]
  },
  {
   "cell_type": "markdown",
   "id": "0787e242",
   "metadata": {},
   "source": [
    "### SENTENCE GENERATION"
   ]
  },
  {
   "cell_type": "code",
   "execution_count": 13,
   "id": "44ccd293",
   "metadata": {},
   "outputs": [],
   "source": [
    "def tokenize_sentences(text):\n",
    "    sentences = [sent_tokenize(text)]\n",
    "    sentences=[y for x in sentences for y in x]\n",
    "    sentences=[x.strip() for x in sentences if len(x)>20]\n",
    "    return sentences"
   ]
  },
  {
   "cell_type": "code",
   "execution_count": 14,
   "id": "adef4a8f",
   "metadata": {},
   "outputs": [
    {
     "data": {
      "text/plain": [
       "['It is commonly kept as a house pet and farm cat, but also ranges freely as a feral cat avoiding human contact.',\n",
       " 'It also secretes and perceives pheromones.',\n",
       " 'Cat communication includes vocalizations like meowing, purring, trilling, hissing, growling, and grunting as well as cat body language']"
      ]
     },
     "execution_count": 14,
     "metadata": {},
     "output_type": "execute_result"
    }
   ],
   "source": [
    "sen=tokenize_sentences(text)\n",
    "sen"
   ]
  },
  {
   "cell_type": "code",
   "execution_count": 15,
   "id": "4a3598fb",
   "metadata": {},
   "outputs": [],
   "source": [
    "def get_sentences_for_keyword(keywords, sentences):\n",
    "    processor=KeywordProcessor()\n",
    "    keywords_sentence_dict={}\n",
    "    for word in keywords:\n",
    "        keywords_sentence_dict[word]=[]\n",
    "        processor.add_keyword(word)\n",
    "    for sentence in sentences:\n",
    "        keyword_found=set(processor.extract_keywords(sentence))\n",
    "        for key in keyword_found:\n",
    "            keywords_sentence_dict[key].append(sentence)\n",
    "    for key in keywords_sentence_dict:\n",
    "        values=keywords_sentence_dict[key]\n",
    "        values=sorted(values, key=len, reverse=True)\n",
    "        keywords_sentence_dict[key]=values\n",
    "    return keywords_sentence_dict"
   ]
  },
  {
   "cell_type": "code",
   "execution_count": 16,
   "id": "8e7918d3",
   "metadata": {},
   "outputs": [
    {
     "data": {
      "text/plain": [
       "{'cat': ['Cat communication includes vocalizations like meowing, purring, trilling, hissing, growling, and grunting as well as cat body language',\n",
       "  'It is commonly kept as a house pet and farm cat, but also ranges freely as a feral cat avoiding human contact.'],\n",
       " 'vocalizations': ['Cat communication includes vocalizations like meowing, purring, trilling, hissing, growling, and grunting as well as cat body language'],\n",
       " 'house': ['It is commonly kept as a house pet and farm cat, but also ranges freely as a feral cat avoiding human contact.'],\n",
       " 'body': ['Cat communication includes vocalizations like meowing, purring, trilling, hissing, growling, and grunting as well as cat body language'],\n",
       " 'commonly': ['It is commonly kept as a house pet and farm cat, but also ranges freely as a feral cat avoiding human contact.'],\n",
       " 'communication': ['Cat communication includes vocalizations like meowing, purring, trilling, hissing, growling, and grunting as well as cat body language'],\n",
       " 'contact': ['It is commonly kept as a house pet and farm cat, but also ranges freely as a feral cat avoiding human contact.'],\n",
       " 'farm': ['It is commonly kept as a house pet and farm cat, but also ranges freely as a feral cat avoiding human contact.'],\n",
       " 'feral': ['It is commonly kept as a house pet and farm cat, but also ranges freely as a feral cat avoiding human contact.'],\n",
       " 'freely': ['It is commonly kept as a house pet and farm cat, but also ranges freely as a feral cat avoiding human contact.'],\n",
       " 'growling': ['Cat communication includes vocalizations like meowing, purring, trilling, hissing, growling, and grunting as well as cat body language'],\n",
       " 'grunting': ['Cat communication includes vocalizations like meowing, purring, trilling, hissing, growling, and grunting as well as cat body language'],\n",
       " 'hissing': ['Cat communication includes vocalizations like meowing, purring, trilling, hissing, growling, and grunting as well as cat body language'],\n",
       " 'human': ['It is commonly kept as a house pet and farm cat, but also ranges freely as a feral cat avoiding human contact.'],\n",
       " 'trilling': ['Cat communication includes vocalizations like meowing, purring, trilling, hissing, growling, and grunting as well as cat body language'],\n",
       " 'includes': ['Cat communication includes vocalizations like meowing, purring, trilling, hissing, growling, and grunting as well as cat body language'],\n",
       " 'kept': ['It is commonly kept as a house pet and farm cat, but also ranges freely as a feral cat avoiding human contact.'],\n",
       " 'language': ['Cat communication includes vocalizations like meowing, purring, trilling, hissing, growling, and grunting as well as cat body language'],\n",
       " 'like': ['Cat communication includes vocalizations like meowing, purring, trilling, hissing, growling, and grunting as well as cat body language'],\n",
       " 'meowing': ['Cat communication includes vocalizations like meowing, purring, trilling, hissing, growling, and grunting as well as cat body language'],\n",
       " 'perceives': ['It also secretes and perceives pheromones.'],\n",
       " 'pet': ['It is commonly kept as a house pet and farm cat, but also ranges freely as a feral cat avoiding human contact.'],\n",
       " 'pheromones': ['It also secretes and perceives pheromones.'],\n",
       " 'purring': ['Cat communication includes vocalizations like meowing, purring, trilling, hissing, growling, and grunting as well as cat body language'],\n",
       " 'ranges': ['It is commonly kept as a house pet and farm cat, but also ranges freely as a feral cat avoiding human contact.'],\n",
       " 'secretes': ['It also secretes and perceives pheromones.'],\n",
       " 'avoiding': ['It is commonly kept as a house pet and farm cat, but also ranges freely as a feral cat avoiding human contact.']}"
      ]
     },
     "execution_count": 16,
     "metadata": {},
     "output_type": "execute_result"
    }
   ],
   "source": [
    "keyword_dict=get_sentences_for_keyword(top_keywords[0][0], sen)\n",
    "keyword_dict"
   ]
  },
  {
   "cell_type": "code",
   "execution_count": 17,
   "id": "544aa3d8",
   "metadata": {},
   "outputs": [],
   "source": [
    "def get_multiple_choice(keyword_sentence_dict):\n",
    "    questions=[]\n",
    "    for key in keyword_sentence_dict:\n",
    "        arr=keyword_sentence_dict[key]\n",
    "        sense_model_result=sense2vec_get_words(key, s2v)\n",
    "        options=random.sample(sense_model_result[:4], 4)\n",
    "        for sen in arr:\n",
    "            sen=sen.lower()\n",
    "            pattern=r'\\b{}\\b'.format(re.escape(key))\n",
    "            re_sen=re.sub(pattern, \"_______\", sen)\n",
    "            questions.append((re_sen,options))\n",
    "    return questions"
   ]
  },
  {
   "cell_type": "code",
   "execution_count": 18,
   "id": "e894fdf4",
   "metadata": {},
   "outputs": [
    {
     "data": {
      "text/plain": [
       "[('_______ communication includes vocalizations like meowing, purring, trilling, hissing, growling, and grunting as well as _______ body language',\n",
       "  ['Kitten', 'Dog', 'Ferret', 'Other Cat']),\n",
       " ('it is commonly kept as a house pet and farm _______, but also ranges freely as a feral _______ avoiding human contact.',\n",
       "  ['Kitten', 'Dog', 'Ferret', 'Other Cat']),\n",
       " ('cat communication includes _______ like meowing, purring, trilling, hissing, growling, and grunting as well as cat body language',\n",
       "  ['Human Voices', 'Human Speech', 'Vocalization', 'Certain Sounds'])]"
      ]
     },
     "execution_count": 18,
     "metadata": {},
     "output_type": "execute_result"
    }
   ],
   "source": [
    "get_multiple_choice({\n",
    "    'cat': ['Cat communication includes vocalizations like meowing, purring, trilling, hissing, growling, and grunting as well as cat body language',\n",
    "  'It is commonly kept as a house pet and farm cat, but also ranges freely as a feral cat avoiding human contact.'],\n",
    " 'vocalizations': ['Cat communication includes vocalizations like meowing, purring, trilling, hissing, growling, and grunting as well as cat body language'],\n",
    "})"
   ]
  },
  {
   "cell_type": "code",
   "execution_count": null,
   "id": "103b404d",
   "metadata": {},
   "outputs": [],
   "source": []
  }
 ],
 "metadata": {
  "kernelspec": {
   "display_name": "Python 3 (ipykernel)",
   "language": "python",
   "name": "python3"
  },
  "language_info": {
   "codemirror_mode": {
    "name": "ipython",
    "version": 3
   },
   "file_extension": ".py",
   "mimetype": "text/x-python",
   "name": "python",
   "nbconvert_exporter": "python",
   "pygments_lexer": "ipython3",
   "version": "3.10.5"
  }
 },
 "nbformat": 4,
 "nbformat_minor": 5
}
