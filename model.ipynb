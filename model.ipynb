{
 "cells": [
  {
   "cell_type": "markdown",
   "id": "14d5b5a1",
   "metadata": {},
   "source": [
    "### IMPORT"
   ]
  },
  {
   "cell_type": "code",
   "execution_count": 1,
   "id": "16b3c8f9",
   "metadata": {},
   "outputs": [],
   "source": [
    "import numpy as np\n",
    "import pandas as pd\n",
    "import matplotlib.pyplot as plt\n",
    "import pickle\n",
    "from heapq import nlargest\n",
    "import string\n",
    "import nltk"
   ]
  },
  {
   "cell_type": "code",
   "execution_count": 2,
   "id": "72601789",
   "metadata": {},
   "outputs": [],
   "source": [
    "punctuations=string.punctuation"
   ]
  },
  {
   "cell_type": "markdown",
   "id": "1e3f2180",
   "metadata": {},
   "source": [
    "### SUMMARIZATION"
   ]
  },
  {
   "cell_type": "code",
   "execution_count": 3,
   "id": "4377ce5d",
   "metadata": {},
   "outputs": [],
   "source": [
    "stopwords=pickle.load(open(\"stopwords.pkl\", \"rb\"))\n",
    "normalized_frequencies=pickle.load(open(\"normalized_frequencies.pkl\", \"rb\"))"
   ]
  },
  {
   "cell_type": "code",
   "execution_count": 4,
   "id": "b95dd326",
   "metadata": {},
   "outputs": [],
   "source": [
    "def get_summaries(text):\n",
    "    sentences=text.strip().split(\".\")\n",
    "    normalized_dict={}\n",
    "    for sentence in sentences:\n",
    "        if len(sentence)>0:\n",
    "            temp_words_list=[]\n",
    "            words=sentence.strip().split(\" \")\n",
    "            for word in words:\n",
    "                if word not in stopwords and word not in punctuations:\n",
    "                    b=\"\".join([i for i in word if i not in punctuations])\n",
    "                    if len(b)>0:\n",
    "                        temp_words_list.append(b)\n",
    "            if len(temp_words_list) >0:\n",
    "                normalized_length=0\n",
    "                for i in temp_words_list:\n",
    "                    if i in normalized_frequencies:\n",
    "                        normalized_length+=normalized_frequencies[i]\n",
    "                    else:\n",
    "                        normalized_length+=0\n",
    "            normalized_dict[sentence]=normalized_length\n",
    "    dict_length = int(len(normalized_dict) * 0.3)\n",
    "    res=nlargest(dict_length, normalized_dict, key=normalized_dict.get)\n",
    "    \n",
    "    return \". \".join(res)"
   ]
  },
  {
   "cell_type": "code",
   "execution_count": 5,
   "id": "4c056fb8",
   "metadata": {},
   "outputs": [],
   "source": [
    "text=get_summaries(\"The cat (Felis catus), commonly referred to as the domestic cat or house cat, is the only domesticated species in the family Felidae. Recent advances in archaeology and genetics have shown that the domestication of the cat occurred in the Near East around 7500 BC. It is commonly kept as a house pet and farm cat, but also ranges freely as a feral cat avoiding human contact. It is valued by humans for companionship and its ability to kill vermin. Because of its retractable claws it is adapted to killing small prey like mice and rats. It has a strong flexible body, quick reflexes, sharp teeth, and its night vision and sense of smell are well developed. It is a social species, but a solitary hunter and a crepuscular predator. Cat communication includes vocalizations like meowing, purring, trilling, hissing, growling, and grunting as well as cat body language. It can hear sounds too faint or too high in frequency for human ears, such as those made by small mammals. It also secretes and perceives pheromones.\")"
   ]
  },
  {
   "cell_type": "markdown",
   "id": "e5ea13f6",
   "metadata": {},
   "source": [
    "### EXTRACTION"
   ]
  },
  {
   "cell_type": "code",
   "execution_count": 6,
   "id": "192701fa",
   "metadata": {},
   "outputs": [],
   "source": [
    "from sklearn.feature_extraction.text import TfidfVectorizer\n",
    "corpus=[text]\n",
    "vectorizer=TfidfVectorizer(stop_words='english')\n",
    "tfidf_matrix=vectorizer.fit_transform(corpus)\n",
    "features_names=vectorizer.get_feature_names_out()\n",
    "if(len(features_names)> 20):\n",
    "    n=int(len(features_names)*0.6)\n",
    "    top_keywords= [features_names[i] for i in tfidf_matrix.sum(axis=0).argsort()[0, ::-1][:n]]\n",
    "else:\n",
    "    top_keywords=[features_names[i] for i in tfidf_matrix.sum(axis=0).argsort()[0, ::-1][:len(features_names)]]"
   ]
  },
  {
   "cell_type": "code",
   "execution_count": 7,
   "id": "dcfe9179",
   "metadata": {},
   "outputs": [
    {
     "data": {
      "text/plain": [
       "[array([['cat', 'vocalizations', 'house', 'body', 'commonly',\n",
       "         'communication', 'contact', 'farm', 'feral', 'freely',\n",
       "         'growling', 'grunting', 'hissing', 'human', 'trilling',\n",
       "         'includes', 'kept', 'language', 'like', 'meowing', 'perceives',\n",
       "         'pet', 'pheromones', 'purring', 'ranges', 'secretes', 'avoiding']],\n",
       "       dtype=object)]"
      ]
     },
     "execution_count": 7,
     "metadata": {},
     "output_type": "execute_result"
    }
   ],
   "source": [
    "top_keywords"
   ]
  },
  {
   "cell_type": "markdown",
   "id": "d0a01045",
   "metadata": {},
   "source": [
    "### DISTRACTOR GENERATION"
   ]
  },
  {
   "cell_type": "code",
   "execution_count": 8,
   "id": "9af24a92",
   "metadata": {},
   "outputs": [],
   "source": [
    " from sense2vec import Sense2Vec\n",
    " # Loading pretrained model\n",
    " s2v = Sense2Vec().from_disk(\"../../installed_packages/s2v_old\")"
   ]
  },
  {
   "cell_type": "code",
   "execution_count": 9,
   "id": "62d1f7c1",
   "metadata": {},
   "outputs": [],
   "source": [
    "from collections import OrderedDict"
   ]
  },
  {
   "cell_type": "code",
   "execution_count": 10,
   "id": "2c7df01d",
   "metadata": {},
   "outputs": [],
   "source": [
    "def sense2vec_get_words(word, s2v):\n",
    "    output=[]\n",
    "    word=word.lower()\n",
    "    word=word.replace(\" \", \"_\")\n",
    "    sense=s2v.get_best_sense(word)\n",
    "    most_similar=s2v.most_similar(sense, n=20)\n",
    "    for each_word in most_similar:\n",
    "        append_word=each_word[0].split(\"|\")[0].replace(\"_\",\" \").lower()\n",
    "        if(append_word.lower()!=word):\n",
    "            output.append(append_word.title())\n",
    "    out2=[]\n",
    "    for i in output:\n",
    "        if i not in out2:\n",
    "            out2.append(i)\n",
    "    return out2"
   ]
  },
  {
   "cell_type": "code",
   "execution_count": 11,
   "id": "51e4d40d",
   "metadata": {},
   "outputs": [
    {
     "data": {
      "text/plain": [
       "['Icecream',\n",
       " 'Ice-Cream',\n",
       " 'Frozen Yogurt',\n",
       " 'Milkshakes',\n",
       " 'Cookie Dough',\n",
       " 'Cereal',\n",
       " 'Chocolate Cake',\n",
       " 'Pop Tarts',\n",
       " 'Oreos',\n",
       " 'Chocolate Chip Cookies',\n",
       " 'Potato Chips',\n",
       " 'Dessert',\n",
       " 'Cinnamon Rolls',\n",
       " 'Chocolate Ice Cream',\n",
       " 'Cheesecake',\n",
       " 'Popsicles',\n",
       " 'Chocolate Milk',\n",
       " 'Chocolate',\n",
       " 'Pancakes']"
      ]
     },
     "execution_count": 11,
     "metadata": {},
     "output_type": "execute_result"
    }
   ],
   "source": [
    "sense2vec_get_words(\"ice cream\", s2v)"
   ]
  },
  {
   "cell_type": "markdown",
   "id": "37ba93ac",
   "metadata": {},
   "source": [
    "### SENTENCE GENERATION"
   ]
  },
  {
   "cell_type": "code",
   "execution_count": 15,
   "id": "b431938c",
   "metadata": {},
   "outputs": [
    {
     "name": "stderr",
     "output_type": "stream",
     "text": [
      "[nltk_data] Downloading package punkt to\n",
      "[nltk_data]     C:\\Users\\DELL\\AppData\\Roaming\\nltk_data...\n",
      "[nltk_data]   Unzipping tokenizers\\punkt.zip.\n"
     ]
    },
    {
     "data": {
      "text/plain": [
       "True"
      ]
     },
     "execution_count": 15,
     "metadata": {},
     "output_type": "execute_result"
    }
   ],
   "source": [
    "nltk.download('punkt')"
   ]
  },
  {
   "cell_type": "code",
   "execution_count": 16,
   "id": "51d2c36d",
   "metadata": {},
   "outputs": [],
   "source": [
    "from nltk.tokenize import sent_tokenize"
   ]
  },
  {
   "cell_type": "code",
   "execution_count": 25,
   "id": "033e0b30",
   "metadata": {},
   "outputs": [],
   "source": [
    "def tokenize_sentences(text):\n",
    "    sentences = [sent_tokenize(text)]\n",
    "    print(sentences)\n",
    "    sentences=[y for x in sentences for y in x]\n",
    "    print(sentences)\n",
    "    sentences=[x.strip() for x in sentences if len(x)>20]\n",
    "    print(sentences)\n",
    "    return sentences"
   ]
  },
  {
   "cell_type": "code",
   "execution_count": 27,
   "id": "21d77986",
   "metadata": {},
   "outputs": [
    {
     "name": "stdout",
     "output_type": "stream",
     "text": [
      "[['Hello, Awesome Reader, how are you doing today?', 'The weather is great, and Python is awesome.']]\n",
      "['Hello, Awesome Reader, how are you doing today?', 'The weather is great, and Python is awesome.']\n",
      "['Hello, Awesome Reader, how are you doing today?', 'The weather is great, and Python is awesome.']\n"
     ]
    },
    {
     "data": {
      "text/plain": [
       "['Hello, Awesome Reader, how are you doing today?',\n",
       " 'The weather is great, and Python is awesome.']"
      ]
     },
     "execution_count": 27,
     "metadata": {},
     "output_type": "execute_result"
    }
   ],
   "source": [
    "tokenize_sentences(\"Hello, Awesome Reader, how are you doing today? The weather is great, and Python is awesome.\")"
   ]
  },
  {
   "cell_type": "code",
   "execution_count": null,
   "id": "645031cd",
   "metadata": {},
   "outputs": [],
   "source": []
  }
 ],
 "metadata": {
  "kernelspec": {
   "display_name": "Python 3 (ipykernel)",
   "language": "python",
   "name": "python3"
  },
  "language_info": {
   "codemirror_mode": {
    "name": "ipython",
    "version": 3
   },
   "file_extension": ".py",
   "mimetype": "text/x-python",
   "name": "python",
   "nbconvert_exporter": "python",
   "pygments_lexer": "ipython3",
   "version": "3.10.5"
  }
 },
 "nbformat": 4,
 "nbformat_minor": 5
}
